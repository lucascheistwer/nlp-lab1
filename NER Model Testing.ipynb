{
 "cells": [
  {
   "cell_type": "code",
   "execution_count": 29,
   "metadata": {},
   "outputs": [],
   "source": [
    "import spacy"
   ]
  },
  {
   "cell_type": "markdown",
   "metadata": {},
   "source": [
    "#### Aca se carga el modelo entrenado"
   ]
  },
  {
   "cell_type": "code",
   "execution_count": 32,
   "metadata": {},
   "outputs": [],
   "source": [
    "nlp2=spacy.load('C:/Users/lucas/Desktop/UTN/nlp-labs/model3')"
   ]
  },
  {
   "cell_type": "code",
   "execution_count": 33,
   "metadata": {
    "scrolled": true
   },
   "outputs": [],
   "source": [
    "nlp1=spacy.load(\"es_core_news_md\")"
   ]
  },
  {
   "cell_type": "markdown",
   "metadata": {},
   "source": [
    "#### Aca en vez de poner este string se podria parsear algun pdf y que se guarde en una variable."
   ]
  },
  {
   "cell_type": "code",
   "execution_count": 40,
   "metadata": {},
   "outputs": [],
   "source": [
    "myfile = open(\"C:/Users/lucas/Desktop/UTN/nlp-labs/dataset_raw/UTNMKT2016-MoraLeandro-TP4.txt\", encoding=\"utf8\")\n",
    "lines = myfile.readlines()"
   ]
  },
  {
   "cell_type": "code",
   "execution_count": 48,
   "metadata": {},
   "outputs": [
    {
     "name": "stdout",
     "output_type": "stream",
     "text": [
      "Adopción 0 8 PER\n",
      "Difusión\n",
      " 11 20 PER\n",
      "Leandro Mora\n",
      " 8 21 PER\n",
      "PAPER DIFUSION 0 14 ORG\n",
      "ADOPCION 17 25 ORG\n",
      "Diferencie 3 13 ORG\n",
      "Indique 3 10 PER\n",
      "Rogers 73 79 ORG\n",
      "1 0 1 LOC\n",
      "Las Características 3 22 ORG\n",
      "Las Consecuencias 3 20 LOC\n",
      "Los Canales de Comunicación 3 30 LOC\n",
      "Rogers 67 73 LOC\n",
      "Rogers 18 24 ORG\n",
      "Grafique 73 81 PER\n",
      "Marketing 0 9 ORG\n",
      "Adopción 21 29 PER\n",
      "Difusión | 1 32 44 PER\n",
      "Mayoría Tardía 4 18 LOC\n",
      "Conservadores 20 33 LOC\n",
      "Defina 3 9 LOC\n",
      "Rogers 16 22 ORG\n",
      "Rogers 14 20 ORG\n",
      "Poseen 2 8 PER\n",
      "Marketing 0 9 ORG\n",
      "Adopción 21 29 PER\n",
      "Difusión | 2 32 44 PER\n",
      "Aceptan 2 9 PER\n",
      "Suelen 2 8 ORG\n",
      "Integrados 2 12 ORG\n",
      "Alto 2 6 LOC\n",
      "Defina 3 9 LOC\n",
      "Rogers 16 22 LOC\n",
      "PAPER DIFUSION 0 14 ORG\n",
      "ADOPCION 17 25 ORG\n",
      "Rosemberg 18 27 PER\n",
      "Rosemberg 0 9 PER\n",
      "Marketing 0 9 ORG\n",
      "Adopción 21 29 PER\n",
      "Difusión | 3 32 44 PER\n",
      "Hall 0 4 PER\n",
      "Según Caselli 3 16 PER\n",
      "Coleman 19 26 PER\n",
      "Caselli 18 25 PER\n",
      "Coleman 28 35 PER\n",
      "Caselli 20 27 PER\n",
      "Coleman 30 37 PER\n",
      "Organización para la Cooperación y el Desarrollo\n",
      " 34 83 ORG\n",
      "OECD 12 16 ORG\n",
      "Marketing 0 9 ORG\n",
      "Adopción 21 29 PER\n",
      "Difusión | 4 32 44 PER\n",
      "Gobierno 37 45 LOC\n",
      "Dutton 19 25 PER\n",
      "Dutton 0 6 LOC\n",
      "Rogers 8 14 LOC\n",
      "Jun 17 20 LOC\n",
      "Dutton 22 28 LOC\n",
      "Rogers 30 36 LOC\n",
      "Jun 39 42 LOC\n",
      "Dutton 31 37 LOC\n",
      "Rogers 39 45 LOC\n",
      "Jun 48 51 LOC\n",
      "Frank Bass 0 10 PER\n",
      "Bass”- 0 6 LOC\n",
      "Bass 30 34 PER\n",
      "N(t-1 15 20 LOC\n",
      "N(t-1 26 31 LOC\n",
      "(1)\n",
      " 34 38 LOC\n",
      "Marketing 0 9 ORG\n",
      "Adopción 21 29 PER\n",
      "Difusión | 5 32 44 PER\n",
      "Este 46 50 LOC\n"
     ]
    }
   ],
   "source": [
    "for line in lines:\n",
    "    doc=nlp1(line)\n",
    "    for ent in doc.ents:\n",
    "        if ent.label_ != \"MISC\":\n",
    "            print(ent.text, ent.start_char, ent.end_char, ent.label_)"
   ]
  },
  {
   "cell_type": "code",
   "execution_count": 46,
   "metadata": {},
   "outputs": [
    {
     "name": "stdout",
     "output_type": "stream",
     "text": [
      "Difusión\n",
      " 11 20 PER\n",
      "Leandro Mora\n",
      " 8 21 PER\n",
      "ADOPCION 17 25 ORG\n",
      "Rogers 73 79 PER\n",
      "Rogers 67 73 PER\n",
      "Rogers 18 24 PER\n",
      "Difusión | 1 32 44 PER\n",
      "Mayoría Tardía 4 18 LOC\n",
      "Conservadores 20 33 ORG\n",
      "Rogers 16 22 PER\n",
      "Rogers 14 20 PER\n",
      "Rogers 16 22 PER\n",
      "ADOPCION 17 25 ORG\n",
      "Rosemberg 18 27 PER\n",
      "Rosemberg 0 9 PER\n",
      "Difusión | 3 32 44 PER\n",
      "Hall 0 4 PER\n",
      "Caselli 9 16 PER\n",
      "Coleman 19 26 PER\n",
      "Caselli 18 25 PER\n",
      "Coleman 28 35 PER\n",
      "Caselli 20 27 PER\n",
      "Coleman 30 37 PER\n",
      "Organización para la Cooperación y el Desarrollo\n",
      " 34 83 ORG\n",
      "OECD 12 16 ORG\n",
      "Dutton 19 25 PER\n",
      "Rogers 8 14 PER\n",
      "Jun 17 20 PER\n",
      "Dutton 22 28 PER\n",
      "Rogers 30 36 PER\n",
      "Jun 39 42 PER\n",
      "Dutton 31 37 PER\n",
      "Rogers 39 45 PER\n",
      "Jun 48 51 PER\n",
      "Frank Bass 0 10 PER\n",
      "Bass 30 34 PER\n",
      "S(t)= 0 5 ORG\n",
      "Difusión | 5 32 44 PER\n"
     ]
    }
   ],
   "source": [
    "for line in lines:\n",
    "    doc=nlp2(line)\n",
    "    for ent in doc.ents:\n",
    "        if ent.label_ != \"MISC\":\n",
    "            print(ent.text, ent.start_char, ent.end_char, ent.label_)"
   ]
  },
  {
   "cell_type": "code",
   "execution_count": null,
   "metadata": {},
   "outputs": [],
   "source": []
  }
 ],
 "metadata": {
  "kernelspec": {
   "display_name": "Python 3",
   "language": "python",
   "name": "python3"
  },
  "language_info": {
   "codemirror_mode": {
    "name": "ipython",
    "version": 3
   },
   "file_extension": ".py",
   "mimetype": "text/x-python",
   "name": "python",
   "nbconvert_exporter": "python",
   "pygments_lexer": "ipython3",
   "version": "3.7.3"
  }
 },
 "nbformat": 4,
 "nbformat_minor": 2
}
